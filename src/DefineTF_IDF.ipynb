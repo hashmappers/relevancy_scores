{
 "cells": [
  {
   "cell_type": "code",
   "execution_count": 22,
   "metadata": {},
   "outputs": [],
   "source": [
    "import scipy.sparse\n",
    "import itertools\n",
    "from sklearn.feature_extraction.text import TfidfVectorizer"
   ]
  },
  {
   "cell_type": "code",
   "execution_count": 23,
   "metadata": {},
   "outputs": [],
   "source": [
    "# open processed file\n",
    "f = open('../data_aquaman/tweets_geo.json', 'r')"
   ]
  },
  {
   "cell_type": "code",
   "execution_count": 19,
   "metadata": {},
   "outputs": [
    {
     "name": "stderr",
     "output_type": "stream",
     "text": [
      "/usr/lib/python3/dist-packages/sklearn/feature_extraction/text.py:1015: FutureWarning: Conversion of the second argument of issubdtype from `float` to `np.floating` is deprecated. In future, it will be treated as `np.float64 == np.dtype(float).type`.\n",
      "  if hasattr(X, 'dtype') and np.issubdtype(X.dtype, np.float):\n"
     ]
    }
   ],
   "source": [
    "# assign tf-idf scores\n",
    "vectorizer = TfidfVectorizer()\n",
    "m = vectorizer.fit_transform(f)\n",
    "\n",
    "# create dictionary of unique int_id, weight pairs\n",
    "# TODO: don't need following?\n",
    "# uniqueScores = {}\n",
    "# cm = scipy.sparse.coo_matrix(m)\n",
    "# for i,j,v in zip(cm.row, cm.col, cm.data):\n",
    "#     uniqueScores[j] = v"
   ]
  },
  {
   "cell_type": "code",
   "execution_count": 24,
   "metadata": {
    "scrolled": true
   },
   "outputs": [
    {
     "name": "stdout",
     "output_type": "stream",
     "text": [
      "Tweet score: 4\n"
     ]
    }
   ],
   "source": [
    "# get list of words by id\n",
    "vocab = vectorizer.get_feature_names()\n",
    "\n",
    "# test tweet analysis\n",
    "tweet = \"something something test sentence stuff aquaman\"\n",
    "a = vectorizer.build_analyzer()\n",
    "aTweet = a(tweet)\n",
    "\n",
    "score = 0\n",
    "for tWord in aTweet:\n",
    "    for i, vWord in enumerate(vocab):\n",
    "        if(tWord == vWord):\n",
    "            score += 1\n",
    "print(\"Tweet score:\", score)"
   ]
  },
  {
   "cell_type": "code",
   "execution_count": null,
   "metadata": {},
   "outputs": [],
   "source": []
  }
 ],
 "metadata": {
  "kernelspec": {
   "display_name": "Python 3",
   "language": "python",
   "name": "python3"
  },
  "language_info": {
   "codemirror_mode": {
    "name": "ipython",
    "version": 3
   },
   "file_extension": ".py",
   "mimetype": "text/x-python",
   "name": "python",
   "nbconvert_exporter": "python",
   "pygments_lexer": "ipython3",
   "version": "3.5.2"
  }
 },
 "nbformat": 4,
 "nbformat_minor": 2
}
